{
 "cells": [
  {
   "cell_type": "code",
   "execution_count": 1,
   "id": "bb7c5862-f4b8-4c78-aaf2-3bedd9cd1b41",
   "metadata": {},
   "outputs": [],
   "source": [
    "# I confirm that I did not use ChatGPT or codes from the web or from past years’ assignments and that the work I submit is my own and my own only"
   ]
  },
  {
   "cell_type": "code",
   "execution_count": 2,
   "id": "514c0888-7ec0-417e-af49-74b697f5ee99",
   "metadata": {},
   "outputs": [],
   "source": [
    "#1.1    \n",
    "def computeInverse(A):\n",
    "    L, U = cs111.LUfactorNoPiv(A)\n",
    "    (a_vec,b_vec) = np.shape(A)\n",
    "    C = np.identity(a_vec)\n",
    "    inv_A = C\n",
    "    for i in range(0,a_vec):\n",
    "        d = cs111.Lsolve(L, C[:, i])\n",
    "        e = cs111.Usolve(U, d)\n",
    "        inv_A[:, i] = e\n",
    "    \n",
    "    return inv_A"
   ]
  },
  {
   "cell_type": "code",
   "execution_count": 3,
   "id": "d5918540-dc23-4889-a9f1-9a97f1825cb5",
   "metadata": {},
   "outputs": [
    {
     "name": "stdout",
     "output_type": "stream",
     "text": [
      "Inverse Calculation Using My Function:\n",
      "[[-2.          1.42857143 -0.9047619 ]\n",
      " [ 2.         -0.71428571  0.28571429]\n",
      " [-1.          0.28571429 -0.04761905]]\n",
      "\n",
      "Inverse Calculation Using Built-in Numpy Function\n",
      "[[-2.          1.42857143 -0.9047619 ]\n",
      " [ 2.         -0.71428571  0.28571429]\n",
      " [-1.          0.28571429 -0.04761905]]\n",
      "\n",
      "Difference Between The Two:\n",
      "[[0.00000000e+00 2.22044605e-16 0.00000000e+00]\n",
      " [0.00000000e+00 0.00000000e+00 0.00000000e+00]\n",
      " [0.00000000e+00 0.00000000e+00 0.00000000e+00]]\n"
     ]
    }
   ],
   "source": [
    "#1.2\n",
    "import numpy as np\n",
    "import numpy.linalg as npla\n",
    "import cs111\n",
    "\n",
    "A = np.array([[1,4,5],[4,17,26],[3,18,30]])\n",
    "inv_A_1 = computeInverse(A)\n",
    "inv_A_2 = npla.inv( A )\n",
    "print(\"Inverse Calculation Using My Function:\")\n",
    "print(inv_A_1)\n",
    "\n",
    "print(\"\\nInverse Calculation Using Built-in Numpy Function\")\n",
    "print(inv_A_2)\n",
    "\n",
    "print(\"\\nDifference Between The Two:\")\n",
    "print(inv_A_1 - inv_A_2)"
   ]
  },
  {
   "cell_type": "code",
   "execution_count": null,
   "id": "b6ad5d29-7b40-481a-b3ff-a72402af5969",
   "metadata": {},
   "outputs": [],
   "source": []
  }
 ],
 "metadata": {
  "kernelspec": {
   "display_name": "Python 3 (ipykernel)",
   "language": "python",
   "name": "python3"
  },
  "language_info": {
   "codemirror_mode": {
    "name": "ipython",
    "version": 3
   },
   "file_extension": ".py",
   "mimetype": "text/x-python",
   "name": "python",
   "nbconvert_exporter": "python",
   "pygments_lexer": "ipython3",
   "version": "3.12.4"
  }
 },
 "nbformat": 4,
 "nbformat_minor": 5
}
