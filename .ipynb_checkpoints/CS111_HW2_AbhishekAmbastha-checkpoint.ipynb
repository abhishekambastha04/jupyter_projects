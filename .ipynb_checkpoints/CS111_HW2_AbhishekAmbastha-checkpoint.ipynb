{
 "cells": [
  {
   "cell_type": "code",
   "execution_count": null,
   "id": "bb7c5862-f4b8-4c78-aaf2-3bedd9cd1b41",
   "metadata": {},
   "outputs": [],
   "source": [
    "# I confirm that I did not use ChatGPT or codes from the web or from past years’ assignments and that the work I submit is my own and my own only"
   ]
  },
  {
   "cell_type": "code",
   "execution_count": 12,
   "id": "514c0888-7ec0-417e-af49-74b697f5ee99",
   "metadata": {},
   "outputs": [],
   "source": [
    "#1.1    \n",
    "def computeInverse(A):\n",
    "    L, U = cs111.LUfactorNoPiv(A)\n",
    "    (a_vec,b_vec) = np.shape(A)\n",
    "    C = np.identity(a_vec)\n",
    "    inv_A = C\n",
    "    for i in range(0,a_vec):\n",
    "        d = cs111.Lsolve(L, C[:, i])\n",
    "        e = cs111.Usolve(U, d)\n",
    "        inv_A[:, i] = e\n",
    "    \n",
    "    return inv_A"
   ]
  },
  {
   "cell_type": "code",
   "execution_count": 19,
   "id": "d5918540-dc23-4889-a9f1-9a97f1825cb5",
   "metadata": {},
   "outputs": [
    {
     "ename": "ModuleNotFoundError",
     "evalue": "No module named 'cs111'",
     "output_type": "error",
     "traceback": [
      "\u001b[0;31m---------------------------------------------------------------------------\u001b[0m",
      "\u001b[0;31mModuleNotFoundError\u001b[0m                       Traceback (most recent call last)",
      "Cell \u001b[0;32mIn[19], line 6\u001b[0m\n\u001b[1;32m      4\u001b[0m \u001b[38;5;28;01mimport\u001b[39;00m \u001b[38;5;21;01msys\u001b[39;00m\n\u001b[1;32m      5\u001b[0m sys\u001b[38;5;241m.\u001b[39mpath\u001b[38;5;241m.\u001b[39mappend(\u001b[38;5;124m'\u001b[39m\u001b[38;5;124m/Users/abhishekambastha/Downloads/cs111\u001b[39m\u001b[38;5;124m'\u001b[39m)\n\u001b[0;32m----> 6\u001b[0m \u001b[38;5;28;01mimport\u001b[39;00m \u001b[38;5;21;01mcs111\u001b[39;00m\n\u001b[1;32m      8\u001b[0m A \u001b[38;5;241m=\u001b[39m np\u001b[38;5;241m.\u001b[39marray([[\u001b[38;5;241m1\u001b[39m,\u001b[38;5;241m4\u001b[39m,\u001b[38;5;241m5\u001b[39m],[\u001b[38;5;241m4\u001b[39m,\u001b[38;5;241m17\u001b[39m,\u001b[38;5;241m26\u001b[39m],[\u001b[38;5;241m3\u001b[39m,\u001b[38;5;241m18\u001b[39m,\u001b[38;5;241m30\u001b[39m]])\n\u001b[1;32m      9\u001b[0m inv_A_1 \u001b[38;5;241m=\u001b[39m computeInverse(A)\n",
      "\u001b[0;31mModuleNotFoundError\u001b[0m: No module named 'cs111'"
     ]
    }
   ],
   "source": [
    "#1.2\n",
    "import numpy as np\n",
    "import numpy.linalg as npla\n",
    "import cs111\n",
    "\n",
    "A = np.array([[1,4,5],[4,17,26],[3,18,30]])\n",
    "inv_A_1 = computeInverse(A)\n",
    "inv_A_2 = npla.inv( A )\n",
    "print(\"Inverse Calculation Using My Function:\")\n",
    "print(inv_A_1)\n",
    "\n",
    "print(\"\\nInverse Calculation Using Built-in Numpy Function\")\n",
    "print(inv_A_2)\n",
    "\n",
    "print(\"\\nDifference Between The Two:\")\n",
    "print(inv_A_1 - inv_A_2)"
   ]
  },
  {
   "cell_type": "code",
   "execution_count": null,
   "id": "b6ad5d29-7b40-481a-b3ff-a72402af5969",
   "metadata": {},
   "outputs": [],
   "source": []
  }
 ],
 "metadata": {
  "kernelspec": {
   "display_name": "Python 3 (ipykernel)",
   "language": "python",
   "name": "python3"
  },
  "language_info": {
   "codemirror_mode": {
    "name": "ipython",
    "version": 3
   },
   "file_extension": ".py",
   "mimetype": "text/x-python",
   "name": "python",
   "nbconvert_exporter": "python",
   "pygments_lexer": "ipython3",
   "version": "3.12.4"
  }
 },
 "nbformat": 4,
 "nbformat_minor": 5
}
